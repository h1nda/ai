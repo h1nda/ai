{
 "cells": [
  {
   "cell_type": "code",
   "execution_count": 64,
   "metadata": {},
   "outputs": [
    {
     "name": "stdout",
     "output_type": "stream",
     "text": [
      "Number of cities is  12\n"
     ]
    }
   ],
   "source": [
    "import loader\n",
    "import random\n",
    "cities, dist = loader.init(\"./data/uk12_code.txt\",\"./data/uk12_dist.txt\")\n",
    "print(\"Number of cities is \", len(cities))\n"
   ]
  },
  {
   "cell_type": "code",
   "execution_count": 65,
   "metadata": {},
   "outputs": [],
   "source": [
    "# Calculate the fitness of a path (the sum of the distances between all cities)\n",
    "def fitness(visitorder):\n",
    "        return sum([dist[pair] for pair in zip(visitorder,visitorder[1:])]) + dist[(visitorder[0],visitorder[-1])]"
   ]
  },
  {
   "cell_type": "code",
   "execution_count": 66,
   "metadata": {},
   "outputs": [],
   "source": [
    "# Generate a starting population 0 \n",
    "def starting_population(size):\n",
    "    population = []\n",
    "    while len(population)<size:\n",
    "        perm = random.sample(cities,len(cities))\n",
    "        if perm not in population:\n",
    "            population.append(perm)\n",
    "    return population"
   ]
  },
  {
   "cell_type": "code",
   "execution_count": 67,
   "metadata": {},
   "outputs": [],
   "source": [
    "# Crossover two parents\n",
    "def crossover(p1, p2):\n",
    "    # how much to cut off from parent\n",
    "    cutoff = random.randint((1/3)*len(cities),(2/3)*len(cities))\n",
    "\n",
    "    o1 = p1[:-cutoff]\n",
    "    return o1 + [x for x in p2 if x not in o1] # filter the cities that have already been visited in o1"
   ]
  },
  {
   "cell_type": "code",
   "execution_count": 68,
   "metadata": {},
   "outputs": [],
   "source": [
    "def next_city(p, city):\n",
    "    # finds next visited city after 'city'\n",
    "    current_ind = p.index(city)\n",
    "    return (city,p[0]) if current_ind == len(p)-1 else (city,p[current_ind+1])\n",
    "    \n",
    "def heuristic_crossover(p1,p2):\n",
    "    # For a pair of parents, pick a random city for the start. \n",
    "    # 2.    Choose the shortest edge (that is represented in the parents) leading from the current city which does not lead to a cycle. \n",
    "    # If two edges lead to a cycle, choose a random city that continues the tour. \n",
    "    # 3.    If the tour is completed, stop; otherwise go to step 2.\n",
    "    offspring = []\n",
    "    current_city = cities[random.randint(0,len(cities)-1)] # choose random start city\n",
    "    offspring.append(current_city) # append it to child\n",
    "    # find next city for each parent and take the minimum\n",
    "    while (len(offspring) < len(p1)):\n",
    "        pair1  = next_city(p1,current_city)\n",
    "        pair2 = next_city(p2,current_city)\n",
    "        cycle1 = pair1[1] in offspring\n",
    "        cycle2 = pair2[1] in offspring\n",
    "\n",
    "        if cycle1 and cycle2:\n",
    "            offspring.append([city for city in cities if city not in offspring][0])\n",
    "        elif cycle1:\n",
    "            offspring.append(pair2[1])\n",
    "        elif cycle2:\n",
    "            offspring.append(pair1[1])\n",
    "        else:\n",
    "            offspring.append(min(pair1, pair2,key=lambda x: dist[x])[1])\n",
    "        \n",
    "        current_city = offspring[-1]\n",
    "    return offspring"
   ]
  },
  {
   "cell_type": "code",
   "execution_count": 69,
   "metadata": {},
   "outputs": [],
   "source": [
    "# Mutate an individual by re-inserting a random city at a random position\n",
    "def mutate(p):\n",
    "    o = p.copy() # copy the parent\n",
    "    selected_city = random.choice(o) # random choice of city\n",
    "    o.remove(selected_city) # remove that city\n",
    "    o.insert(random.randint(0, len(o)), selected_city) # re-insert it at random position\n",
    "    return o\n"
   ]
  },
  {
   "cell_type": "code",
   "execution_count": 70,
   "metadata": {},
   "outputs": [],
   "source": [
    "# Randomly decided whether to mutate or crossover\n",
    "from scipy.stats import bernoulli \n",
    "def mutate_or_crossover():\n",
    "    return bernoulli.rvs(0.8) # 0.8 probability to choose crossover\n",
    "    # 1 - crossover; 0 - mutation"
   ]
  },
  {
   "cell_type": "code",
   "execution_count": 71,
   "metadata": {},
   "outputs": [],
   "source": [
    "# Create n offsprings from parents\n",
    "def create_offsprings(parents, n):\n",
    "    offsprings = []\n",
    "\n",
    "    for i in range(0,n):\n",
    "        op = mutate_or_crossover() # decide whether offspring i will be a crossover or a mutant\n",
    "        if op == 0: \n",
    "            # if chosen operation is mutate, randomly choose parent from parents then mutate it\n",
    "            offsprings.append(mutate(random.choice(parents)))\n",
    "        else:\n",
    "            # chosen operation is crossover\n",
    "            [p1, p2] = random.sample(parents,k=2) # list\n",
    "            offsprings.append(heuristic_crossover(p1,p2))\n",
    "            \n",
    "    return offsprings"
   ]
  },
  {
   "cell_type": "code",
   "execution_count": 72,
   "metadata": {},
   "outputs": [],
   "source": [
    "# Select from the generation (size) individuals \n",
    "def selection(gen, size):\n",
    "    p = [fitness(i) for i in gen]\n",
    "    fitsum = sum(p)\n",
    "    p = [pi/fitsum for pi in p] # probability of being selected\n",
    "\n",
    "    return random.choices(gen,k=size,weights=p) # choose (size) individuals"
   ]
  },
  {
   "cell_type": "code",
   "execution_count": 73,
   "metadata": {},
   "outputs": [],
   "source": [
    "# Retain k of the generation's candidates with highest fitness\n",
    "def retain_best(gen, k):\n",
    "    return sorted(gen,key=lambda x: fitness(x))[:k]"
   ]
  },
  {
   "cell_type": "code",
   "execution_count": 74,
   "metadata": {},
   "outputs": [],
   "source": [
    "# Create the new generation by selecting some of the parents to create offsprings from, but also keep a few of the best parent individuals\n",
    "def new_generation(gen, mating_size, offspring_size,retain_size):\n",
    "    parents = selection(gen, mating_size)\n",
    "    offsprings = create_offsprings(parents, offspring_size)\n",
    "    return retain_best(parents+offsprings,retain_size)"
   ]
  },
  {
   "cell_type": "code",
   "execution_count": 75,
   "metadata": {},
   "outputs": [],
   "source": [
    "# Generate a starting population (current) and iterate through gen_iters generations\n",
    "def genetic_algorithm(gen_size, mating_size, offspring_size, retain_size, gens_count):\n",
    "    current = starting_population(gen_size)\n",
    "    for i in range(gens_count):\n",
    "      current = new_generation(current, mating_size, offspring_size, retain_size)\n",
    "    return current\n",
    "\n"
   ]
  },
  {
   "cell_type": "code",
   "execution_count": 78,
   "metadata": {},
   "outputs": [],
   "source": [
    "def solve_TSP():\n",
    "   best = max(genetic_algorithm(100,60,150,70,2000),key=lambda x: fitness(x))\n",
    "   return (best, fitness(best))"
   ]
  },
  {
   "cell_type": "code",
   "execution_count": 79,
   "metadata": {},
   "outputs": [
    {
     "name": "stdout",
     "output_type": "stream",
     "text": [
      "(['Exet', 'Brig', 'Newc', 'Live', 'Oxfo', 'Glas', 'Edin', 'Nott', 'Aber', 'Inve', 'Lond', 'Stra'], 1733)\n"
     ]
    }
   ],
   "source": [
    "print(solve_TSP())"
   ]
  }
 ],
 "metadata": {
  "kernelspec": {
   "display_name": "Python 3.8.10 ('basic')",
   "language": "python",
   "name": "python3"
  },
  "language_info": {
   "codemirror_mode": {
    "name": "ipython",
    "version": 3
   },
   "file_extension": ".py",
   "mimetype": "text/x-python",
   "name": "python",
   "nbconvert_exporter": "python",
   "pygments_lexer": "ipython3",
   "version": "3.8.10 (default, Jun 22 2022, 20:18:18) \n[GCC 9.4.0]"
  },
  "orig_nbformat": 4,
  "vscode": {
   "interpreter": {
    "hash": "b834aff05deab2c54706a79b6632872aaedce44b0dd23efc459a913443c6a209"
   }
  }
 },
 "nbformat": 4,
 "nbformat_minor": 2
}
