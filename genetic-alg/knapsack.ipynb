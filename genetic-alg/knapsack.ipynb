{
 "cells": [
  {
   "cell_type": "code",
   "execution_count": 51,
   "metadata": {},
   "outputs": [],
   "source": [
    "# Дадена е раница с вместимост M килограма и N предмета, всеки от които се характеризира с две числа - тегло mi и стойност ci. Използвайки Генетичен алгоритъм, да се избере такова множество от предмети, чиято сумарна стойност е максимална, а сумата от теглата не надвишава M. За целта нека да се изведе на пет стъпки стойността на текущо най-добрата конфигурация от предмети в популацията.\n",
    "# 1. на 10-та генерация\n",
    "# 2, 3, 4 - по избор\n",
    "# 5. След последната генерация\n",
    "\n",
    "# N < 10 000\n",
    "\n",
    "# Вход:\n",
    "# M, N\n",
    "# N реда определящи mi и ci\n",
    "\n",
    "# Изход:\n",
    "# Максималната възможна такава сума от стойности "
   ]
  },
  {
   "cell_type": "code",
   "execution_count": 52,
   "metadata": {},
   "outputs": [],
   "source": [
    "# READING INPUT FROM FILE\n",
    "import InputReader\n",
    "import numpy as np\n",
    "M, N, weight, cost = InputReader.read_input(\"./data/KP long test data.txt\")"
   ]
  },
  {
   "cell_type": "code",
   "execution_count": 53,
   "metadata": {},
   "outputs": [],
   "source": [
    "# Fitness for KP: if the weight sum(v_i*w_i) > M it's zero, otherwise sum(v_i*c_i)\n",
    "def fitness(v):\n",
    "    # INPUT: bool vector v of size N\n",
    "    # OUTPUT: fitness value\n",
    "    \n",
    "    # dot(v,w) = sum(v_i*w_i)\n",
    "    # dot(v,c) = sum(v_i*c_i)\n",
    "    return 0 if np.dot(v,weight) > M else np.dot(v,cost)\n"
   ]
  },
  {
   "cell_type": "code",
   "execution_count": 54,
   "metadata": {},
   "outputs": [],
   "source": [
    "# Generate one N-length bool vector that has fitness > 0 \n",
    "def generate_some():\n",
    "    ind = np.zeros(N,np.int8)\n",
    "    # Random amount of included items\n",
    "    k = abs(int(np.trunc(np.random.normal(loc=N/2,scale=N/4))))\n",
    "    # Random indices to try and include\n",
    "    add = np.random.randint(N,size=k)\n",
    "    for i in add:\n",
    "        ind[i] = 1 # add item\n",
    "        if fitness(ind) == 0: # if it overloads the bag (fitness = 0) then remove it\n",
    "            ind[i] = 0\n",
    "    return ind.tolist()\n",
    "\n",
    "# Generate one N-length bool vector that has fitness > 0 \n",
    "def generate_all():\n",
    "    ind = np.zeros(N,np.int8)\n",
    "    # Shuffle indices and try to include each one \n",
    "    l = np.arange(N)\n",
    "    np.random.shuffle(l)\n",
    "    for i in l:\n",
    "        ind[i] = 1 # add item\n",
    "        if fitness(ind) == 0: # if it overloads the bag (fitness = 0) then remove it\n",
    "            ind[i] = 0\n",
    "    return ind.tolist()\n"
   ]
  },
  {
   "cell_type": "code",
   "execution_count": 55,
   "metadata": {},
   "outputs": [],
   "source": [
    "# backpack representation: bool vector of size N\n",
    "# starting population: generate a bunch of bool vectors\n",
    "def starting_population(k, gen_alg=\"trysome\"):\n",
    "    # generate k vectors of size N => shape (k,N)\n",
    "    if gen_alg == \"random\":\n",
    "        return np.random.randint(2,size=(k,N)).tolist()\n",
    "\n",
    "    pop = []\n",
    "    if gen_alg == \"tryall\":\n",
    "        while len(pop) < k:\n",
    "            pop.append(generate_all())\n",
    "    else:\n",
    "        while len(pop) < k:\n",
    "            pop.append(generate_some())\n",
    "    return pop"
   ]
  },
  {
   "cell_type": "code",
   "execution_count": 56,
   "metadata": {},
   "outputs": [],
   "source": [
    "# Tournament selection: select ONE INDIVIDUAL to become a parent for the next generation\n",
    "import random\n",
    "def selection(pop, t=2):\n",
    "    # INPUT: the population, tournament size t\n",
    "    # OUTPUT: a parent individual\n",
    "    ops = random.sample(pop,t) # randomly choose t (without replacement)\n",
    "    return max(ops,key= lambda ind: fitness(ind)) # sort them by fitness and choose the best\n"
   ]
  },
  {
   "cell_type": "code",
   "execution_count": 57,
   "metadata": {},
   "outputs": [],
   "source": [
    "# Crossover: Choose two parents then crossover to produce offspring\n",
    "def crossover(pop, t=2, alg=\"op\"):\n",
    "    # INPUT: the population, the tournament size & the type of crossover\n",
    "    # op : one-point crossover\n",
    "    # 2p : two-point crossover\n",
    "    # unif : uniform crossover\n",
    "    # OUTPUT: crossover child\n",
    "    p1 = selection(pop,t)\n",
    "    p2 = selection(pop,t)\n",
    "    \n",
    "    if alg == \"op\":\n",
    "        # select cut-point from [1,N-1] from normal distribution N(mean=len/2,std=len/4)\n",
    "        cut = int(np.trunc(np.random.normal(loc=N/2,scale=N/4)))\n",
    "        return p1[:cut] + p2[cut:]\n",
    "    elif alg == \"2p\":\n",
    "         # select 2 cut-points from [1,N-1] from normal distribution N(mean=len/2,std=len/4)\n",
    "        cut1, cut2 = np.trunc(np.random.normal(loc=N/2,scale=N/4,size=2))\n",
    "        cut1 = abs(int(cut1))\n",
    "        cut2 = abs(int(cut2))\n",
    "        if cut1 > cut2:\n",
    "            temp = cut1\n",
    "            cut1 = cut2\n",
    "            cut2 = temp\n",
    "        return p1[:cut1]+p2[cut1:cut2]+p1[cut2:] # p1[0,cut1)+p2[cut1,cut2)+p1[cut2,]\n",
    "    elif alg == \"unif\":\n",
    "        # randomly select p1[i] or p2[i] for child[i]\n",
    "        # if 1: pick p1 if 2: pick p2\n",
    "        return [p1[index] if val == 1 else p2[index] for index, val in enumerate(np.random.randint(1,3,size=N))]\n",
    "                \n"
   ]
  },
  {
   "cell_type": "code",
   "execution_count": 58,
   "metadata": {},
   "outputs": [],
   "source": [
    "# Mutation: Choose a 'parent' to create a mutated 'offspring'\n",
    "def mutation(pop,t=2):\n",
    "    # INPUT: the population, the tournament size & probability for a single bit to mutate (flip)\n",
    "    # OUTPUT: mutant child\n",
    "    p = selection(pop,t)\n",
    "    # decide how many flips to perform\n",
    "    k = np.random.randint((1/3)*N,(2/3)*N)\n",
    "    # randomly choose which to flip\n",
    "    indices = random.sample(p,k)\n",
    "\n",
    "    def flip(i):\n",
    "        return 0 if i == 1 else 0\n",
    "        \n",
    "    #flip them\n",
    "    child = p.copy()\n",
    "    for i in indices:\n",
    "        flip(child[i])\n",
    "    return child\n",
    "def mutation_2(pop, t=2):\n",
    "        # INPUT: the population, the tournament size & probability for a single bit to mutate (flip)\n",
    "    # OUTPUT: mutant child\n",
    "    def flip(i):\n",
    "        return 0 if i == 1 else 0\n",
    "    \n",
    "    p = selection(pop,t)\n",
    "    child = p.copy()\n",
    "\n",
    "    num = 20 \n",
    "    for _ in range(num):\n",
    "        # decide how many flips to perform\n",
    "        k = np.random.randint((1/3)*N,(2/3)*N)\n",
    "        # randomly choose which to flip\n",
    "        indices = random.sample(p,k)  \n",
    "        #flip them\n",
    "        for i in indices:\n",
    "            flip(child[i])\n",
    "    \n",
    "    return child\n"
   ]
  },
  {
   "cell_type": "code",
   "execution_count": 59,
   "metadata": {},
   "outputs": [],
   "source": [
    "# Elitism: carry over the best k individuals over to the next generation\n",
    "def elitism(pop,k=10):\n",
    "    return sorted(pop,key=lambda ind:fitness(ind),reverse=True)[:k]\n"
   ]
  },
  {
   "cell_type": "code",
   "execution_count": 60,
   "metadata": {},
   "outputs": [],
   "source": [
    "from collections import deque\n",
    "import time\n",
    "\n",
    "def solve_KP(mut=\"normal\", k=100, gen_alg = \"trysome\", elite_prop=0.1,xo_prop=0.85, t = 2, xo_alg = \"op\", method = \"epochs\", epochs=1000, max_gens=30, alpha=0.02, s=60,quiet=True):\n",
    "    # Create next generation\n",
    "    def iteration(gen):\n",
    "        # INPUT: generation\n",
    "        # OUTPUT: new generation\n",
    "        new = []\n",
    "        elites = elitism(gen, int(elite_prop*k)) # retain elite_prop% of elites\n",
    "        for _ in range(int(xo_prop*k)): # create xo_prop% crossover children\n",
    "            new.append(crossover(gen, t, xo_alg))\n",
    "        for _ in range(int((1-elite_prop-xo_prop)*k)):\n",
    "            if mut == \"20\":\n",
    "                new.append(mutation_2(gen,t))\n",
    "            else:\n",
    "                new.append(mutation(gen,t))\n",
    "        return new + elites\n",
    "\n",
    "    # Create starting population of size k\n",
    "    gen = starting_population(k, gen_alg)\n",
    "\n",
    "    if method == \"epochs\": # stops after epochs iterations\n",
    "        for i in range(epochs):\n",
    "            if not quiet:\n",
    "                if i in [10,int(epochs/4), int(epochs/2), int((3*epochs)/4)]:\n",
    "                    print(\"Best fitness score of generation\", i, \":\", np.max([fitness(i) for i in gen]))\n",
    "            gen = iteration(gen)\n",
    "    elif method == \"stall\": # stops when the average relative change in the fitness function value over max_gens is less than alpha\n",
    "        def avg_fitness(pop):\n",
    "            return np.average([fitness(ind) for ind in pop])\n",
    "        \n",
    "        def relative_change(hist):\n",
    "            changes = []\n",
    "            copy = hist.copy()\n",
    "            copy.popleft()\n",
    "            for old, new in zip(hist,copy):\n",
    "                change = (avg_fitness(new) - avg_fitness(old)) / avg_fitness(old)\n",
    "                changes.append(change)\n",
    "            return np.average(changes)\n",
    "\n",
    "        # deque of history \n",
    "        history = deque(maxlen=max_gens)\n",
    "        history.append(gen)\n",
    "\n",
    "        # generation counter\n",
    "        i = 0\n",
    "        while len(history) < max_gens or relative_change(history) < alpha:\n",
    "            if not quiet:\n",
    "                if i in [10, 20, 30]:\n",
    "                    print(\"Best fitness score of generation\", i, \":\", np.max([fitness(i) for i in gen]))\n",
    "            gen = iteration(gen)\n",
    "            history.append(gen)\n",
    "            i = i+1\n",
    "    else:  # stops when max time (s) was exceeded\n",
    "        t_end = time.time() + s\n",
    "        # generation counter\n",
    "        i = 0\n",
    "        while time.time() < t_end:\n",
    "            if not quiet:\n",
    "                if i in [10,20,30]:\n",
    "                    print(\"Best fitness score of generation\", i, \":\", np.max([fitness(i) for i in gen]))\n",
    "            gen = iteration(gen)\n",
    "            i=i+1\n",
    "\n",
    "    sol = max(gen,key=lambda i: fitness(i))\n",
    "    if not quiet:\n",
    "        print(\"Best fitness score of last generation:\", fitness(sol))\n",
    "    return sol, fitness(sol)\n"
   ]
  },
  {
   "cell_type": "code",
   "execution_count": 64,
   "metadata": {},
   "outputs": [
    {
     "name": "stdout",
     "output_type": "stream",
     "text": [
      "Best fitness score of generation 10 : 4455\n",
      "Best fitness score of generation 20 : 5072\n",
      "Best fitness score of generation 30 : 5072\n",
      "Best fitness score of last generation: 5072\n",
      "Best fitness score of generation 10 : 4546\n",
      "Best fitness score of generation 20 : 4985\n",
      "Best fitness score of generation 30 : 5053\n",
      "Best fitness score of last generation: 5053\n",
      "Best fitness score of generation 10 : 4347\n",
      "Best fitness score of generation 20 : 4953\n",
      "Best fitness score of generation 30 : 5044\n",
      "Best fitness score of last generation: 5072\n",
      "Best fitness score of generation 10 : 4333\n",
      "Best fitness score of generation 20 : 4892\n",
      "Best fitness score of generation 30 : 4984\n",
      "Best fitness score of last generation: 4984\n",
      "Best fitness score of generation 10 : 4199\n",
      "Best fitness score of generation 20 : 4902\n",
      "Best fitness score of generation 30 : 5053\n",
      "Best fitness score of last generation: 5053\n"
     ]
    }
   ],
   "source": [
    "one_mutation = []\n",
    "for i in range(5):\n",
    "    _, fit_score = solve_KP(method=\"stall\",xo_alg=\"unif\",k=300,alpha=0.02,max_gens=50,quiet=False)\n",
    "    one_mutation.append(fit_score)"
   ]
  },
  {
   "cell_type": "code",
   "execution_count": 65,
   "metadata": {},
   "outputs": [
    {
     "name": "stdout",
     "output_type": "stream",
     "text": [
      "Best fitness score of generation 10 : 4225\n",
      "Best fitness score of generation 20 : 5119\n",
      "Best fitness score of generation 30 : 5119\n",
      "Best fitness score of last generation: 5119\n",
      "Best fitness score of generation 10 : 4143\n",
      "Best fitness score of generation 20 : 5119\n",
      "Best fitness score of generation 30 : 5119\n",
      "Best fitness score of last generation: 5119\n",
      "Best fitness score of generation 10 : 4539\n",
      "Best fitness score of generation 20 : 5044\n",
      "Best fitness score of generation 30 : 5101\n",
      "Best fitness score of last generation: 5101\n",
      "Best fitness score of generation 10 : 4233\n",
      "Best fitness score of generation 20 : 5028\n",
      "Best fitness score of generation 30 : 5119\n",
      "Best fitness score of last generation: 5119\n",
      "Best fitness score of generation 10 : 4624\n",
      "Best fitness score of generation 20 : 5072\n",
      "Best fitness score of generation 30 : 5072\n",
      "Best fitness score of last generation: 5072\n"
     ]
    }
   ],
   "source": [
    "twenty_mutation = []\n",
    "for i in range(5):\n",
    "    _, fit_score = solve_KP(mut=\"20\", method=\"stall\",xo_alg=\"unif\",k=300,alpha=0.02,max_gens=50,quiet=False)\n",
    "    twenty_mutation.append(fit_score)"
   ]
  },
  {
   "cell_type": "code",
   "execution_count": 66,
   "metadata": {},
   "outputs": [
    {
     "name": "stdout",
     "output_type": "stream",
     "text": [
      "[5072, 5053, 5072, 4984, 5053]\n",
      "[5119, 5119, 5101, 5119, 5072]\n"
     ]
    }
   ],
   "source": [
    "print(one_mutation)\n",
    "print(twenty_mutation)"
   ]
  },
  {
   "cell_type": "code",
   "execution_count": 67,
   "metadata": {},
   "outputs": [
    {
     "name": "stdout",
     "output_type": "stream",
     "text": [
      "5046.8\n",
      "5106.0\n"
     ]
    }
   ],
   "source": [
    "print(np.average(one_mutation))\n",
    "print(np.average(twenty_mutation))"
   ]
  },
  {
   "cell_type": "code",
   "execution_count": null,
   "metadata": {},
   "outputs": [],
   "source": []
  }
 ],
 "metadata": {
  "kernelspec": {
   "display_name": "Python 3.8.10 ('basic')",
   "language": "python",
   "name": "python3"
  },
  "language_info": {
   "codemirror_mode": {
    "name": "ipython",
    "version": 3
   },
   "file_extension": ".py",
   "mimetype": "text/x-python",
   "name": "python",
   "nbconvert_exporter": "python",
   "pygments_lexer": "ipython3",
   "version": "3.8.10"
  },
  "orig_nbformat": 4,
  "vscode": {
   "interpreter": {
    "hash": "b834aff05deab2c54706a79b6632872aaedce44b0dd23efc459a913443c6a209"
   }
  }
 },
 "nbformat": 4,
 "nbformat_minor": 2
}
